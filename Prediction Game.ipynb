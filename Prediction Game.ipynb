{
 "cells": [
  {
   "cell_type": "code",
   "execution_count": 15,
   "metadata": {},
   "outputs": [
    {
     "name": "stdout",
     "output_type": "stream",
     "text": [
      "Ваш алгоритм угадывает число в среднем за 5 попыток\n"
     ]
    }
   ],
   "source": [
    "import numpy as np\n",
    "\n",
    "def game_core(number, minimum_value=0, maximum_value=100):\n",
    "    '''Predicting the guessed number in the minimum amount of attempts'''\n",
    "    '''by knowing only if the guessed number is bigger or smaller than prediction'''\n",
    "    attempts_count = 1\n",
    "    predict = (maximum_value + minimum_value) // 2 # The first predict = middle of the range of possible values\n",
    "    predictup = maximum_value # The maximum possible guessed number value\n",
    "    predictdown = minimum_value # The minimum possible guessed number value\n",
    "    \n",
    "    '''Predicting the number while it is not equal to the guessed'''\n",
    "    while number != predict:\n",
    "        attempts_count += 1\n",
    "        if predict > number: # If the predicted number is bigger than a guessed one\n",
    "            predictup = predict # This number is set as the maximum possible value\n",
    "            predict = round((predict + predictdown) / 2) # Next guess will be between this guess and minimum possible value\n",
    "        else: # If the predicted number is smaller than a guessed one\n",
    "            predictdown = predict # This number is set as the maximum possible value\n",
    "            predict = round((predict + predictup) / 2) # Next guess will be between this guess and maximum possible value\n",
    "    \n",
    "    return(attempts_count) # Function returns the amount of attempts\n",
    "        \n",
    "        \n",
    "        \n",
    "def score_game(game_core):\n",
    "    '''Launching game 1000 times to define the average number of guesses'''\n",
    "    count_ls = []\n",
    "    np.random.seed(1)  # Random values are fixed to be the same in every experiment\n",
    "    random_array = np.random.randint(1,101,size=1000) # Generating the list of random values to make experiment 1000 times\n",
    "    for number in random_array:\n",
    "        count_ls.append(game_core(number)) # Generating the total amount for guesses for 1000 random numbers\n",
    "    score = int(np.mean(count_ls)) # Function returns the average amount of guesses \n",
    "    return(score)\n",
    "\n",
    "\n",
    "result = score_game(game_core) # running the algorythm to define the mean - average result\n",
    "print(f\"Ваш алгоритм угадывает число в среднем за {result} попыток\")"
   ]
  }
 ],
 "metadata": {
  "kernelspec": {
   "display_name": "Python 3",
   "language": "python",
   "name": "python3"
  },
  "language_info": {
   "codemirror_mode": {
    "name": "ipython",
    "version": 3
   },
   "file_extension": ".py",
   "mimetype": "text/x-python",
   "name": "python",
   "nbconvert_exporter": "python",
   "pygments_lexer": "ipython3",
   "version": "3.7.6"
  }
 },
 "nbformat": 4,
 "nbformat_minor": 4
}
